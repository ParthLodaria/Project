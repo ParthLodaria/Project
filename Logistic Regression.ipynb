{
 "cells": [
  {
   "cell_type": "code",
   "execution_count": 1,
   "metadata": {},
   "outputs": [
    {
     "ename": "SyntaxError",
     "evalue": "invalid syntax (<ipython-input-1-3b967db7ee3f>, line 3)",
     "output_type": "error",
     "traceback": [
      "\u001b[1;36m  File \u001b[1;32m\"<ipython-input-1-3b967db7ee3f>\"\u001b[1;36m, line \u001b[1;32m3\u001b[0m\n\u001b[1;33m    final<- jsonlite::fromJSON(\"fall2019-survey-m08.json\")\u001b[0m\n\u001b[1;37m                     ^\u001b[0m\n\u001b[1;31mSyntaxError\u001b[0m\u001b[1;31m:\u001b[0m invalid syntax\n"
     ]
    }
   ],
   "source": [
    "library(jsonlite)\n",
    "\n",
    "final<- jsonlite::fromJSON(\"fall2019-survey-m08.json\")"
   ]
  },
  {
   "cell_type": "code",
   "execution_count": 2,
   "metadata": {},
   "outputs": [
    {
     "ename": "SyntaxError",
     "evalue": "invalid syntax (<ipython-input-2-c643504a4623>, line 2)",
     "output_type": "error",
     "traceback": [
      "\u001b[1;36m  File \u001b[1;32m\"<ipython-input-2-c643504a4623>\"\u001b[1;36m, line \u001b[1;32m2\u001b[0m\n\u001b[1;33m    final <- final[,1:27] #eliminate last 5 column\u001b[0m\n\u001b[1;37m                   ^\u001b[0m\n\u001b[1;31mSyntaxError\u001b[0m\u001b[1;31m:\u001b[0m invalid syntax\n"
     ]
    }
   ],
   "source": [
    "#Cleaning data by removing the unnecessary columns irrelevant to the model\n",
    "final <- final[,1:27] #eliminate last 5 column\n",
    "final<- final[,-1:-2]#the following columns have nothing to do with airplane experiences.\n",
    "final<- final[,-16:-18]\n",
    "final<- final[,-13:-14]"
   ]
  },
  {
   "cell_type": "code",
   "execution_count": 3,
   "metadata": {},
   "outputs": [
    {
     "ename": "SyntaxError",
     "evalue": "invalid syntax (<ipython-input-3-b1dce6de6021>, line 3)",
     "output_type": "error",
     "traceback": [
      "\u001b[1;36m  File \u001b[1;32m\"<ipython-input-3-b1dce6de6021>\"\u001b[1;36m, line \u001b[1;32m3\u001b[0m\n\u001b[1;33m    threshold <- median(final$Likelihood.to.recommend)\u001b[0m\n\u001b[1;37m                             ^\u001b[0m\n\u001b[1;31mSyntaxError\u001b[0m\u001b[1;31m:\u001b[0m invalid syntax\n"
     ]
    }
   ],
   "source": [
    "#Converting likelihood.to recommend variable into binary to act as independent variable in logistic regression\n",
    "value <- 1\n",
    "threshold <- median(final$Likelihood.to.recommend)\n",
    "value[final$Likelihood.to.recommend < threshold] <- 'NO'\n",
    "value[final$Likelihood.to.recommend >= threshold] <- 'YES'\n",
    "value <- as.factor(value)\n",
    "final <- cbind(final,value)"
   ]
  },
  {
   "cell_type": "code",
   "execution_count": 4,
   "metadata": {},
   "outputs": [
    {
     "ename": "SyntaxError",
     "evalue": "invalid syntax (<ipython-input-4-4b9726fd4e4b>, line 3)",
     "output_type": "error",
     "traceback": [
      "\u001b[1;36m  File \u001b[1;32m\"<ipython-input-4-4b9726fd4e4b>\"\u001b[1;36m, line \u001b[1;32m3\u001b[0m\n\u001b[1;33m    sortdep<- sort(final$Departure.Delay.in.Minutes,decreasing = TRUE)#sort departrue delay\u001b[0m\n\u001b[1;37m                        ^\u001b[0m\n\u001b[1;31mSyntaxError\u001b[0m\u001b[1;31m:\u001b[0m invalid syntax\n"
     ]
    }
   ],
   "source": [
    "#Munging data by modifying columns as per requirement and dealing with NA values\n",
    "\n",
    "sortdep<- sort(final$Departure.Delay.in.Minutes,decreasing = TRUE)#sort departrue delay\n",
    "meanDeDelay<- mean(head(sortdep,20))#claculate mean of top 20 departure delay\n",
    "final$Departure.Delay.in.Minutes[which(is.na(final$Departure.Delay.in.Minutes))]<- meanDeDelay#fill NA with mean top 20 departure delay\n",
    "sortArrDelay<- sort(final$Arrival.Delay.in.Minutes,decreasing = TRUE)#do again for arrival delay\n",
    "meanArrDelay<- mean(head(sortArrDelay,20))#mean top 20 arrival delay\n",
    "final$Arrival.Delay.in.Minutes[which(is.na(final$Arrival.Delay.in.Minutes))]<- meanArrDelay#fill NA with mean top 20 arrival delay\n",
    "\n",
    "final$Year.of.First.Flight <- 2014 - final$Year.of.First.Flight\n",
    "colnames(final)[5] <- 'Years.of.experience'\n",
    "\n",
    "final$Scheduled.Departure.Hour[final$Scheduled.Departure.Hour == 5 | final$Scheduled.Departure.Hour == 6 | final$Scheduled.Departure.Hour == 7 | final$Scheduled.Departure.Hour == 8 | final$Scheduled.Departure.Hour == 9 | final$Scheduled.Departure.Hour == 10 | final$Scheduled.Departure.Hour == 11] <- 'Morning'\n",
    "final$Scheduled.Departure.Hour[final$Scheduled.Departure.Hour == 12 | final$Scheduled.Departure.Hour == 13 | final$Scheduled.Departure.Hour == 14 | final$Scheduled.Departure.Hour == 15 | final$Scheduled.Departure.Hour == 16] <- 'Afternoon'\n",
    "final$Scheduled.Departure.Hour[final$Scheduled.Departure.Hour == 17 | final$Scheduled.Departure.Hour == 18 | final$Scheduled.Departure.Hour == 19] <- 'Evening'\n",
    "final$Scheduled.Departure.Hour[final$Scheduled.Departure.Hour == 20 | final$Scheduled.Departure.Hour == 21 | final$Scheduled.Departure.Hour == 22 | final$Scheduled.Departure.Hour == 23 | final$Scheduled.Departure.Hour == 14 | final$Scheduled.Departure.Hour == 1 | final$Scheduled.Departure.Hour == 2 | final$Scheduled.Departure.Hour == 3 | final$Scheduled.Departure.Hour == 4 ] <- 'Night'\n"
   ]
  },
  {
   "cell_type": "code",
   "execution_count": 5,
   "metadata": {},
   "outputs": [
    {
     "ename": "SyntaxError",
     "evalue": "invalid syntax (<ipython-input-5-0a563271b1e6>, line 3)",
     "output_type": "error",
     "traceback": [
      "\u001b[1;36m  File \u001b[1;32m\"<ipython-input-5-0a563271b1e6>\"\u001b[1;36m, line \u001b[1;32m3\u001b[0m\n\u001b[1;33m    final$Airline.Status <- as.factor(final$Airline.Status)\u001b[0m\n\u001b[1;37m         ^\u001b[0m\n\u001b[1;31mSyntaxError\u001b[0m\u001b[1;31m:\u001b[0m invalid syntax\n"
     ]
    }
   ],
   "source": [
    "#Changing data type to fit logistic regression\n",
    "\n",
    "final$Airline.Status <- as.factor(final$Airline.Status)\n",
    "final$Gender <- as.factor(final$Gender)\n",
    "final$Price.Sensitivity <- as.factor(final$Price.Sensitivity)\n",
    "final$Type.of.Travel <- as.factor(final$Type.of.Travel)\n",
    "final$Class <- as.factor(final$Class)\n",
    "final$Partner.Code <- as.factor(final$Partner.Code)\n",
    "final$Scheduled.Departure.Hour <- as.factor(final$Scheduled.Departure.Hour)\n",
    "final$Flight.cancelled <- as.factor(final$Flight.cancelled)\n",
    "\n",
    "final$Age <- as.numeric(final$Age)\n",
    "final$Flights.Per.Year <- as.numeric(final$Flights.Per.Year)\n",
    "final$Total.Freq.Flyer.Accts <- as.numeric(final$Total.Freq.Flyer.Accts)\n",
    "final$Shopping.Amount.at.Airport <- as.numeric(final$Shopping.Amount.at.Airport)\n",
    "final$Eating.and.Drinking.at.Airport <- as.numeric(final$Eating.and.Drinking.at.Airport)\n",
    "final$Departure.Delay.in.Minutes <- as.numeric(final$Departure.Delay.in.Minutes)\n",
    "final$Arrival.Delay.in.Minutes <- as.numeric(final$Arrival.Delay.in.Minutes)\n",
    "final$Flight.time.in.minutes <- as.numeric(final$Flight.time.in.minutes)\n",
    "final$Flight.Distance <- as.numeric(final$Flight.Distance)\n",
    "final$Likelihood.to.recommend <- as.numeric(final$Likelihood.to.recommend)\n",
    "\n",
    "str(final)"
   ]
  },
  {
   "cell_type": "code",
   "execution_count": 6,
   "metadata": {},
   "outputs": [
    {
     "ename": "NameError",
     "evalue": "name 'xtabs' is not defined",
     "output_type": "error",
     "traceback": [
      "\u001b[1;31m---------------------------------------------------------------------------\u001b[0m",
      "\u001b[1;31mNameError\u001b[0m                                 Traceback (most recent call last)",
      "\u001b[1;32m<ipython-input-6-ba610244a2c7>\u001b[0m in \u001b[0;36m<module>\u001b[1;34m\u001b[0m\n\u001b[0;32m      1\u001b[0m \u001b[1;31m#checking if Likelihood to recommend i.e. yes or no is represented by all levels of almost all categorical variables\u001b[0m\u001b[1;33m\u001b[0m\u001b[1;33m\u001b[0m\u001b[1;33m\u001b[0m\u001b[0m\n\u001b[1;32m----> 2\u001b[1;33m \u001b[0mxtabs\u001b[0m\u001b[1;33m(\u001b[0m\u001b[1;33m~\u001b[0m \u001b[0mvalue\u001b[0m \u001b[1;33m+\u001b[0m \u001b[0mAirline\u001b[0m\u001b[1;33m.\u001b[0m\u001b[0mStatus\u001b[0m\u001b[1;33m,\u001b[0m \u001b[0mdata\u001b[0m \u001b[1;33m=\u001b[0m \u001b[0mfinal\u001b[0m\u001b[1;33m)\u001b[0m\u001b[1;33m\u001b[0m\u001b[1;33m\u001b[0m\u001b[0m\n\u001b[0m\u001b[0;32m      3\u001b[0m \u001b[0mxtabs\u001b[0m\u001b[1;33m(\u001b[0m\u001b[1;33m~\u001b[0m \u001b[0mvalue\u001b[0m \u001b[1;33m+\u001b[0m \u001b[0mGender\u001b[0m\u001b[1;33m,\u001b[0m \u001b[0mdata\u001b[0m \u001b[1;33m=\u001b[0m \u001b[0mfinal\u001b[0m\u001b[1;33m)\u001b[0m\u001b[1;33m\u001b[0m\u001b[1;33m\u001b[0m\u001b[0m\n\u001b[0;32m      4\u001b[0m \u001b[0mxtabs\u001b[0m\u001b[1;33m(\u001b[0m\u001b[1;33m~\u001b[0m \u001b[0mvalue\u001b[0m \u001b[1;33m+\u001b[0m \u001b[0mPrice\u001b[0m\u001b[1;33m.\u001b[0m\u001b[0mSensitivity\u001b[0m\u001b[1;33m,\u001b[0m \u001b[0mdata\u001b[0m \u001b[1;33m=\u001b[0m \u001b[0mfinal\u001b[0m\u001b[1;33m)\u001b[0m\u001b[1;33m\u001b[0m\u001b[1;33m\u001b[0m\u001b[0m\n\u001b[0;32m      5\u001b[0m \u001b[0mxtabs\u001b[0m\u001b[1;33m(\u001b[0m\u001b[1;33m~\u001b[0m \u001b[0mvalue\u001b[0m \u001b[1;33m+\u001b[0m \u001b[0mType\u001b[0m\u001b[1;33m.\u001b[0m\u001b[0mof\u001b[0m\u001b[1;33m.\u001b[0m\u001b[0mTravel\u001b[0m\u001b[1;33m,\u001b[0m \u001b[0mdata\u001b[0m \u001b[1;33m=\u001b[0m \u001b[0mfinal\u001b[0m\u001b[1;33m)\u001b[0m\u001b[1;33m\u001b[0m\u001b[1;33m\u001b[0m\u001b[0m\n",
      "\u001b[1;31mNameError\u001b[0m: name 'xtabs' is not defined"
     ]
    }
   ],
   "source": [
    "#checking if Likelihood to recommend i.e. yes or no is represented by all levels of almost all categorical variables\n",
    "xtabs(~ value + Airline.Status, data = final)\n",
    "xtabs(~ value + Gender, data = final)\n",
    "xtabs(~ value + Price.Sensitivity, data = final)\n",
    "xtabs(~ value + Type.of.Travel, data = final)\n",
    "xtabs(~ value + Total.Freq.Flyer.Accts, data = final)\n",
    "xtabs(~ value + Class, data = final)\n",
    "xtabs(~ value + Partner.Code, data = final)\n",
    "xtabs(~ value + Scheduled.Departure.Hour, data = final)\n",
    "xtabs(~ value + Flight.cancelled, data = final)"
   ]
  },
  {
   "cell_type": "code",
   "execution_count": 7,
   "metadata": {},
   "outputs": [
    {
     "ename": "SyntaxError",
     "evalue": "invalid syntax (<ipython-input-7-5296372333a0>, line 1)",
     "output_type": "error",
     "traceback": [
      "\u001b[1;36m  File \u001b[1;32m\"<ipython-input-7-5296372333a0>\"\u001b[1;36m, line \u001b[1;32m1\u001b[0m\n\u001b[1;33m    GenderLogistic <- glm(value ~ Gender, data = final, family = \"binomial\")\u001b[0m\n\u001b[1;37m                                ^\u001b[0m\n\u001b[1;31mSyntaxError\u001b[0m\u001b[1;31m:\u001b[0m invalid syntax\n"
     ]
    }
   ],
   "source": [
    "GenderLogistic <- glm(value ~ Gender, data = final, family = \"binomial\")\n",
    "summary(GenderLogistic)\n",
    "\n",
    "TimeLogistic <- glm(value ~ Scheduled.Departure.Hour, data = final, family = \"binomial\")\n",
    "summary(TimeLogistic)"
   ]
  },
  {
   "cell_type": "code",
   "execution_count": 8,
   "metadata": {},
   "outputs": [
    {
     "ename": "SyntaxError",
     "evalue": "invalid syntax (<ipython-input-8-d0db7c9023d3>, line 1)",
     "output_type": "error",
     "traceback": [
      "\u001b[1;36m  File \u001b[1;32m\"<ipython-input-8-d0db7c9023d3>\"\u001b[1;36m, line \u001b[1;32m1\u001b[0m\n\u001b[1;33m    Logistic1 <- glm(value ~ Loyalty+Airline.Status+Age+Gender + Flights.Per.Year + Total.Freq.Flyer.Accts + Type.of.Travel+Shopping.Amount.at.Airport+Eating.and.Drinking.at.Airport, data = final, family = \"binomial\")\u001b[0m\n\u001b[1;37m                           ^\u001b[0m\n\u001b[1;31mSyntaxError\u001b[0m\u001b[1;31m:\u001b[0m invalid syntax\n"
     ]
    }
   ],
   "source": [
    "Logistic1 <- glm(value ~ Loyalty+Airline.Status+Age+Gender + Flights.Per.Year + Total.Freq.Flyer.Accts + Type.of.Travel+Shopping.Amount.at.Airport+Eating.and.Drinking.at.Airport, data = final, family = \"binomial\")\n",
    "summary(Logistic1)\n",
    "\n",
    "library(caret)\n",
    "trainIndex <- createDataPartition(final$value, p = .67,\n",
    "                                  list = FALSE,\n",
    "                                  times = 1)\n",
    "\n",
    "Train <- final[ trainIndex,]\n",
    "Test  <- final[-trainIndex,]"
   ]
  },
  {
   "cell_type": "code",
   "execution_count": 9,
   "metadata": {},
   "outputs": [
    {
     "ename": "SyntaxError",
     "evalue": "invalid syntax (<ipython-input-9-edeef5b38e71>, line 3)",
     "output_type": "error",
     "traceback": [
      "\u001b[1;36m  File \u001b[1;32m\"<ipython-input-9-edeef5b38e71>\"\u001b[1;36m, line \u001b[1;32m3\u001b[0m\n\u001b[1;33m    Test$model_prob <- predict(Logistic1, Test, type = \"response\")\u001b[0m\n\u001b[1;37m        ^\u001b[0m\n\u001b[1;31mSyntaxError\u001b[0m\u001b[1;31m:\u001b[0m invalid syntax\n"
     ]
    }
   ],
   "source": [
    "library(tidyverse)\n",
    "\n",
    "Test$model_prob <- predict(Logistic1, Test, type = \"response\")\n",
    "\n",
    "Test <- Test  %>% mutate(model_pred = 1*(model_prob > .53) + 0,\n",
    "                                 visit_binary = 1*(value == \"YES\") + 0)\n",
    "\n",
    "Test <- Test %>% mutate(accurate = 1*(model_pred == visit_binary))\n",
    "sum(Test$accurate)/nrow(Test)"
   ]
  },
  {
   "cell_type": "code",
   "execution_count": null,
   "metadata": {},
   "outputs": [],
   "source": []
  }
 ],
 "metadata": {
  "kernelspec": {
   "display_name": "Python 3",
   "language": "python",
   "name": "python3"
  },
  "language_info": {
   "codemirror_mode": {
    "name": "ipython",
    "version": 3
   },
   "file_extension": ".py",
   "mimetype": "text/x-python",
   "name": "python",
   "nbconvert_exporter": "python",
   "pygments_lexer": "ipython3",
   "version": "3.7.4"
  }
 },
 "nbformat": 4,
 "nbformat_minor": 2
}
