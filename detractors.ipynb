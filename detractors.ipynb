{
 "cells": [
  {
   "cell_type": "code",
   "execution_count": 3,
   "metadata": {},
   "outputs": [
    {
     "ename": "SyntaxError",
     "evalue": "invalid syntax (<ipython-input-3-5bc708a7d171>, line 7)",
     "output_type": "error",
     "traceback": [
      "\u001b[1;36m  File \u001b[1;32m\"<ipython-input-3-5bc708a7d171>\"\u001b[1;36m, line \u001b[1;32m7\u001b[0m\n\u001b[1;33m    final<- jsonlite::fromJSON(\"fall2019-survey-m08.json\")\u001b[0m\n\u001b[1;37m                     ^\u001b[0m\n\u001b[1;31mSyntaxError\u001b[0m\u001b[1;31m:\u001b[0m invalid syntax\n"
     ]
    }
   ],
   "source": [
    "# library packages\n",
    "library(ggplot2)\n",
    "library(tidyverse)\n",
    "library(jsonlite)\n",
    "\n",
    "# Get data \n",
    "final<- jsonlite::fromJSON(\"fall2019-survey-m08.json\")\n",
    "\n",
    "#--------- Arrange data ---------\n",
    "\n",
    "# Genarate a dataframe only has detractors and other info\n",
    "detractors <- data.frame(final[final$Likelihood.to.recommend < 7 , ])"
   ]
  },
  {
   "cell_type": "code",
   "execution_count": null,
   "metadata": {},
   "outputs": [],
   "source": [
    "#change from numeric to categorical\n",
    "detractors$Likelihood.to.recommend=\"detractors\"\n",
    "\n",
    "# then turn it to factor\n",
    "detractors$Likelihood.to.recommend <- as.factor(detractors$Likelihood.to.recommend)\n"
   ]
  },
  {
   "cell_type": "code",
   "execution_count": null,
   "metadata": {},
   "outputs": [],
   "source": [
    "# Create a dataframe only contains flight partner and \"detractors\"\n",
    "CstmrandPrtnr <- data.frame(detractors$Partner.Code , detractors$Likelihood.to.recommend)\n",
    "subCstmrandPrtnr <- subset(CstmrandPrtnr,detractors.Likelihood.to.recommend == \"detractors\" , select = c(detractors.Partner.Code,detractors.Likelihood.to.recommend))\n"
   ]
  },
  {
   "cell_type": "code",
   "execution_count": null,
   "metadata": {},
   "outputs": [],
   "source": [
    "# Plot of most chosen flight partner with detractors\n",
    "\n",
    "subCstmrandPrtnr %>%\n",
    "  ggplot()+\n",
    "  aes(x=subCstmrandPrtnr$detractors.Partner.Code)+\n",
    "  geom_bar(fill= \"#71D5F3\")+\n",
    "  geom_text(aes(label=as.character(..count..)),stat = \"count\")+\n",
    "  ggtitle(\"flight partner with detractors\")\n",
    "\n",
    "\n",
    "# From the plot, we could see the worst flight partner would be WN(Cheapseats Airlines Inc.)\n",
    "# as the most customers fly with WN are detractors"
   ]
  },
  {
   "cell_type": "code",
   "execution_count": null,
   "metadata": {},
   "outputs": [],
   "source": [
    "#change from numeric to categorical\n",
    "detractors$Likelihood.to.recommend=\"detractors\"\n",
    "\n",
    "# then turn it to factor\n",
    "detractors$Likelihood.to.recommend <- as.factor(detractors$Likelihood.to.recommend)\n"
   ]
  },
  {
   "cell_type": "code",
   "execution_count": null,
   "metadata": {},
   "outputs": [],
   "source": [
    "# Create a dataframe only contains free text and \"detractors\"\n",
    "CstmrandFrTxt <- data.frame(detractors$freeText , detractors$Likelihood.to.recommend)\n",
    "subCstmrandFrTxt <- subset(CstmrandFrTxt,detractors.Likelihood.to.recommend == \"detractors\" , select = c(detractors.freeText,detractors.Likelihood.to.recommend))\n",
    "\n",
    "# Delete rows with NA\n",
    "subCstmrandFrTxt <- na.omit(subCstmrandFrTxt)\n"
   ]
  },
  {
   "cell_type": "code",
   "execution_count": null,
   "metadata": {},
   "outputs": [],
   "source": [
    "# -------- Create word cloud --------\n",
    "\n",
    "# library packages\n",
    "library(tm)\n",
    "library(wordcloud)\n",
    "\n",
    "freeText <- subCstmrandFrTxt$detractors.freeText\n",
    "\n",
    "text.vec <- VectorSource(freeText)\n",
    "text.corpus <- Corpus(text.vec)\n",
    "text.corpus <- tm_map(text.corpus,removePunctuation)\n",
    "words.corpus<- tm_map(text.corpus,removeWords,stopwords(\"english\"))\n",
    "textMatrix <- TermDocumentMatrix(text.corpus)\n",
    "tm <- as.matrix(textMatrix)\n",
    "textCounts <- rowSums(tm)\n",
    "textCounts <- sort(textCounts,decreasing = TRUE)\n",
    "\n",
    "textCloudFrame <- data.frame(word=names(textCounts),freq=textCounts)\n",
    "wordcloud(textCloudFrame$word,textCloudFrame$freq)\n",
    "wordcloud(names(textCounts),textCounts,min.freq = 10,max.words = 310,rot.per = 0.35,colors = brewer.pal(10,\"RdYlBu\"))\n"
   ]
  }
 ],
 "metadata": {
  "kernelspec": {
   "display_name": "Python 3",
   "language": "python",
   "name": "python3"
  },
  "language_info": {
   "codemirror_mode": {
    "name": "ipython",
    "version": 3
   },
   "file_extension": ".py",
   "mimetype": "text/x-python",
   "name": "python",
   "nbconvert_exporter": "python",
   "pygments_lexer": "ipython3",
   "version": "3.7.4"
  }
 },
 "nbformat": 4,
 "nbformat_minor": 2
}
